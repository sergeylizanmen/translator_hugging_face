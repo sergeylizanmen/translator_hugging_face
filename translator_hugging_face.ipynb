{
 "cells": [
  {
   "cell_type": "code",
   "execution_count": 1,
   "id": "5c8d13ec",
   "metadata": {},
   "outputs": [
    {
     "name": "stderr",
     "output_type": "stream",
     "text": [
      "D:\\Programs\\Python3.10\\lib\\site-packages\\torch\\_masked\\__init__.py:223: UserWarning: Failed to initialize NumPy: module compiled against API version 0xf but this version of numpy is 0xe (Triggered internally at  ..\\torch\\csrc\\utils\\tensor_numpy.cpp:68.)\n",
      "  example_input = torch.tensor([[-3, -2, -1], [0, 1, 2]])\n"
     ]
    }
   ],
   "source": [
    "from transformers import FSMTForConditionalGeneration, FSMTTokenizer, pipeline"
   ]
  },
  {
   "cell_type": "code",
   "execution_count": 2,
   "id": "62b344e5",
   "metadata": {},
   "outputs": [],
   "source": [
    "mname = \"facebook/wmt19-en-ru\"\n",
    "tokenizer = FSMTTokenizer.from_pretrained(mname)\n",
    "model = FSMTForConditionalGeneration.from_pretrained(mname)"
   ]
  },
  {
   "cell_type": "code",
   "execution_count": 3,
   "id": "a9717c7f",
   "metadata": {},
   "outputs": [
    {
     "data": {
      "text/plain": [
       "[{'translation_text': 'Как дела у вас?'}]"
      ]
     },
     "execution_count": 3,
     "metadata": {},
     "output_type": "execute_result"
    }
   ],
   "source": [
    "translator = pipeline(\"translation\", model=model, tokenizer=tokenizer)\n",
    "translator(\"How are you?\")"
   ]
  },
  {
   "cell_type": "code",
   "execution_count": 4,
   "id": "f3e84246",
   "metadata": {},
   "outputs": [],
   "source": [
    "from sklearn.datasets import fetch_20newsgroups\n",
    "import pandas as pd"
   ]
  },
  {
   "cell_type": "code",
   "execution_count": 5,
   "id": "52a6048f",
   "metadata": {},
   "outputs": [],
   "source": [
    "newsgroups_train = fetch_20newsgroups(subset='train', categories=['talk.politics.misc'], shuffle=True, random_state=42)"
   ]
  },
  {
   "cell_type": "code",
   "execution_count": 6,
   "id": "cb1f60e5",
   "metadata": {},
   "outputs": [],
   "source": [
    "newsgroups_train = pd.DataFrame(newsgroups_train.data[:100])\n",
    "newsgroups_train.columns=['original']"
   ]
  },
  {
   "cell_type": "code",
   "execution_count": 7,
   "id": "45a2474a",
   "metadata": {},
   "outputs": [
    {
     "data": {
      "text/plain": [
       "66      199\n",
       "12      257\n",
       "28      261\n",
       "58      322\n",
       "94      335\n",
       "      ...  \n",
       "35     6673\n",
       "70     7201\n",
       "32     7592\n",
       "34     9732\n",
       "60    11337\n",
       "Name: original, Length: 100, dtype: int64"
      ]
     },
     "execution_count": 7,
     "metadata": {},
     "output_type": "execute_result"
    }
   ],
   "source": [
    "newsgroups_train.original.str.len().sort_values()"
   ]
  },
  {
   "cell_type": "code",
   "execution_count": 8,
   "id": "8b6d6883",
   "metadata": {},
   "outputs": [],
   "source": [
    "def translate_news(news):\n",
    "    max_length = round(len(news))\n",
    "    return translator(news, max_length=max_length)[0]['translation_text']"
   ]
  },
  {
   "cell_type": "code",
   "execution_count": 9,
   "id": "a952c361",
   "metadata": {},
   "outputs": [
    {
     "name": "stderr",
     "output_type": "stream",
     "text": [
      "Token indices sequence length is longer than the specified maximum sequence length for this model (1411 > 1024). Running this sequence through the model will result in indexing errors\n"
     ]
    },
    {
     "name": "stdout",
     "output_type": "stream",
     "text": [
      "CPU times: total: 21h 47min 27s\n",
      "Wall time: 4h 9min 58s\n"
     ]
    }
   ],
   "source": [
    "%%time\n",
    "newsgroups_train['translate'] = newsgroups_train.original.apply(translate_news)"
   ]
  },
  {
   "cell_type": "code",
   "execution_count": 10,
   "id": "3b277cb4",
   "metadata": {},
   "outputs": [
    {
     "data": {
      "text/html": [
       "<div>\n",
       "<style scoped>\n",
       "    .dataframe tbody tr th:only-of-type {\n",
       "        vertical-align: middle;\n",
       "    }\n",
       "\n",
       "    .dataframe tbody tr th {\n",
       "        vertical-align: top;\n",
       "    }\n",
       "\n",
       "    .dataframe thead th {\n",
       "        text-align: right;\n",
       "    }\n",
       "</style>\n",
       "<table border=\"1\" class=\"dataframe\">\n",
       "  <thead>\n",
       "    <tr style=\"text-align: right;\">\n",
       "      <th></th>\n",
       "      <th>original</th>\n",
       "      <th>translate</th>\n",
       "    </tr>\n",
       "  </thead>\n",
       "  <tbody>\n",
       "    <tr>\n",
       "      <th>0</th>\n",
       "      <td>From: steveh@thor.isc-br.com (Steve Hendricks)...</td>\n",
       "      <td>От: steveh @ thor.isc-br.com (Стив Хендрикс) Т...</td>\n",
       "    </tr>\n",
       "    <tr>\n",
       "      <th>1</th>\n",
       "      <td>From: cramer@optilink.COM (Clayton Cramer)\\nSu...</td>\n",
       "      <td>От: cramer @ optilink.COM (Clamer) Тема: Re: R...</td>\n",
       "    </tr>\n",
       "    <tr>\n",
       "      <th>2</th>\n",
       "      <td>From: kaldis@romulus.rutgers.edu (Theodore A. ...</td>\n",
       "      <td>От: Fedis @ romulus.feders.edu (Fedor A. Kaldi...</td>\n",
       "    </tr>\n",
       "    <tr>\n",
       "      <th>3</th>\n",
       "      <td>From: kaldis@romulus.rutgers.edu (Theodore A. ...</td>\n",
       "      <td>Тема: Re: Формальный подход к презумпции невин...</td>\n",
       "    </tr>\n",
       "    <tr>\n",
       "      <th>4</th>\n",
       "      <td>From: radford@cs.toronto.edu (Radford Neal)\\nS...</td>\n",
       "      <td>От: radford @ cs.toronto.edu (Radford Neal) Те...</td>\n",
       "    </tr>\n",
       "    <tr>\n",
       "      <th>...</th>\n",
       "      <td>...</td>\n",
       "      <td>...</td>\n",
       "    </tr>\n",
       "    <tr>\n",
       "      <th>95</th>\n",
       "      <td>From: garrett@Ingres.COM \\nSubject: Re: Limiti...</td>\n",
       "      <td>От: garrett @ Ingrestarian.COM Предмет: Re: Fr...</td>\n",
       "    </tr>\n",
       "    <tr>\n",
       "      <th>96</th>\n",
       "      <td>From: cramer@optilink.COM (Clayton Cramer)\\nSu...</td>\n",
       "      <td>От: cramer @ optilink.COM (Claumer) Тема: Re: ...</td>\n",
       "    </tr>\n",
       "    <tr>\n",
       "      <th>97</th>\n",
       "      <td>From: cobarruvias@asd2.jsc.nasa.gov (John Coba...</td>\n",
       "      <td>От: cobarruvias @ asd2.jsc.nasa.gov (John Coba...</td>\n",
       "    </tr>\n",
       "    <tr>\n",
       "      <th>98</th>\n",
       "      <td>From: fpa1@Trumpet.CC.MsState.Edu (Fletcher P ...</td>\n",
       "      <td>From: fpa1 @ Trumpet.CC.MsState.Edu (Fletcher ...</td>\n",
       "    </tr>\n",
       "    <tr>\n",
       "      <th>99</th>\n",
       "      <td>From: steveh@thor.isc-br.com (Steve Hendricks)...</td>\n",
       "      <td>От: steveh @ thor.isc-br.com (Стив Хендрикс) Т...</td>\n",
       "    </tr>\n",
       "  </tbody>\n",
       "</table>\n",
       "<p>100 rows × 2 columns</p>\n",
       "</div>"
      ],
      "text/plain": [
       "                                             original  \\\n",
       "0   From: steveh@thor.isc-br.com (Steve Hendricks)...   \n",
       "1   From: cramer@optilink.COM (Clayton Cramer)\\nSu...   \n",
       "2   From: kaldis@romulus.rutgers.edu (Theodore A. ...   \n",
       "3   From: kaldis@romulus.rutgers.edu (Theodore A. ...   \n",
       "4   From: radford@cs.toronto.edu (Radford Neal)\\nS...   \n",
       "..                                                ...   \n",
       "95  From: garrett@Ingres.COM \\nSubject: Re: Limiti...   \n",
       "96  From: cramer@optilink.COM (Clayton Cramer)\\nSu...   \n",
       "97  From: cobarruvias@asd2.jsc.nasa.gov (John Coba...   \n",
       "98  From: fpa1@Trumpet.CC.MsState.Edu (Fletcher P ...   \n",
       "99  From: steveh@thor.isc-br.com (Steve Hendricks)...   \n",
       "\n",
       "                                            translate  \n",
       "0   От: steveh @ thor.isc-br.com (Стив Хендрикс) Т...  \n",
       "1   От: cramer @ optilink.COM (Clamer) Тема: Re: R...  \n",
       "2   От: Fedis @ romulus.feders.edu (Fedor A. Kaldi...  \n",
       "3   Тема: Re: Формальный подход к презумпции невин...  \n",
       "4   От: radford @ cs.toronto.edu (Radford Neal) Те...  \n",
       "..                                                ...  \n",
       "95  От: garrett @ Ingrestarian.COM Предмет: Re: Fr...  \n",
       "96  От: cramer @ optilink.COM (Claumer) Тема: Re: ...  \n",
       "97  От: cobarruvias @ asd2.jsc.nasa.gov (John Coba...  \n",
       "98  From: fpa1 @ Trumpet.CC.MsState.Edu (Fletcher ...  \n",
       "99  От: steveh @ thor.isc-br.com (Стив Хендрикс) Т...  \n",
       "\n",
       "[100 rows x 2 columns]"
      ]
     },
     "execution_count": 10,
     "metadata": {},
     "output_type": "execute_result"
    }
   ],
   "source": [
    "newsgroups_train"
   ]
  },
  {
   "cell_type": "code",
   "execution_count": null,
   "id": "93dd1da5",
   "metadata": {},
   "outputs": [],
   "source": []
  }
 ],
 "metadata": {
  "kernelspec": {
   "display_name": "Python 3 (ipykernel)",
   "language": "python",
   "name": "python3"
  },
  "language_info": {
   "codemirror_mode": {
    "name": "ipython",
    "version": 3
   },
   "file_extension": ".py",
   "mimetype": "text/x-python",
   "name": "python",
   "nbconvert_exporter": "python",
   "pygments_lexer": "ipython3",
   "version": "3.10.0"
  }
 },
 "nbformat": 4,
 "nbformat_minor": 5
}
